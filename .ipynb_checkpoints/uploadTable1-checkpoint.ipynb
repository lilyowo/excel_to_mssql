{
 "cells": [
  {
   "cell_type": "markdown",
   "id": "84aaac53",
   "metadata": {},
   "source": [
    "# Import package"
   ]
  },
  {
   "cell_type": "code",
   "execution_count": 44,
   "id": "3b170fae",
   "metadata": {},
   "outputs": [],
   "source": [
    "from sqlalchemy import create_engine, inspect # pip install SQLAlchemy\n",
    "from sqlalchemy.engine import URL\n",
    "import pypyodbc # pip install pypyodbc\n",
    "import pandas as pd # pip install pandas\n",
    "\n",
    "SERVER_NAME = 'LAPTOP-B6OG51F6'\n",
    "DATABASE_NAME = 'med_DB2'\n",
    "TABLE_NAME = 'AllMed'\n",
    "excel_file = './Med_table.xlsx'\n",
    "connection_string = f\"\"\"\n",
    "    DRIVER={{SQL Server}};\n",
    "    SERVER={SERVER_NAME};\n",
    "    DATABASE={DATABASE_NAME};\n",
    "    Trusted_Connection=yes;\n",
    "\"\"\"\n",
    "connection_url = URL.create('mssql+pyodbc', query={'odbc_connect': connection_string})\n",
    "engine = create_engine(connection_url, module=pypyodbc)\n",
    "\n",
    "# for single sheet\n",
    "AllMed_excel = pd.read_excel(excel_file, sheet_name=\"AllMed\")\n",
    "# get table Attribute info\n",
    "inspector = inspect(engine)\n",
    "table_columns = inspector.get_columns(TABLE_NAME)\n"
   ]
  },
  {
   "cell_type": "markdown",
   "id": "c25df33b",
   "metadata": {},
   "source": [
    "# preprocess the excel file"
   ]
  },
  {
   "cell_type": "markdown",
   "id": "c00ab23a",
   "metadata": {},
   "source": [
    "#### 處理primary key獨立問題"
   ]
  },
  {
   "cell_type": "code",
   "execution_count": 45,
   "id": "7e40c71c",
   "metadata": {},
   "outputs": [],
   "source": [
    "# primary key independence \n",
    "invalid_ids = []# collect not number data row\n",
    "for _, row in AllMed_excel.iterrows():\n",
    "    try:\n",
    "        id_value = int(row['Med_id'])\n",
    "    except ValueError:\n",
    "        invalid_ids.append(row['Med_id'])\n",
    "\n",
    "    row['Med_id'] = id_value\n",
    "\n",
    "# check duplicate ID\n",
    "\n",
    "existing_ids_df=[]\n",
    "with engine.connect() as conn:\n",
    "    result=conn.execute(f'select Med_id from {TABLE_NAME}')\n",
    "    allresult = result.fetchall()\n",
    "    existing_ids_df = [item[0] for item in allresult]\n",
    "    \n",
    "duplicate_ids = AllMed_excel[AllMed_excel.duplicated('Med_id')]['Med_id'].tolist()\n",
    "duplicate_ids+= AllMed_excel[AllMed_excel['Med_id'].isin(existing_ids_df)]['Med_id'].tolist()\n",
    "\n",
    "# non number ID OR duplicated ID, Remove them from excel file which going to load to sql\n",
    "if invalid_ids or duplicate_ids:\n",
    "    print(\"Invalid or duplicate IDs found in Excel data:\")\n",
    "    if invalid_ids:\n",
    "        print(\"Invalid IDs:\", invalid_ids)\n",
    "    if duplicate_ids:\n",
    "        print(\"Duplicate IDs:\", duplicate_ids)\n",
    "    AllMed_excel = AllMed_excel[~AllMed_excel['Med_id'].isin(invalid_ids + duplicate_ids)]\n"
   ]
  },
  {
   "cell_type": "markdown",
   "id": "1f3ccdcd",
   "metadata": {},
   "source": [
    "#### 所有數值格 都確認是否放數值"
   ]
  },
  {
   "cell_type": "code",
   "execution_count": 47,
   "id": "067e1289",
   "metadata": {},
   "outputs": [],
   "source": [
    "# check which is numerate\n",
    "numeric_columns = [column['name'] for column in table_columns if column['type'].python_type in (int, float)]\n",
    "\n",
    "# non numerate data turn into Null\n",
    "for col in numeric_columns:\n",
    "    AllMed_excel[col] = pd.to_numeric(AllMed_excel[col], errors='coerce')"
   ]
  },
  {
   "cell_type": "markdown",
   "id": "2b46ef83",
   "metadata": {},
   "source": [
    "#### 處理not null的值有Null就不可以放進去"
   ]
  },
  {
   "cell_type": "code",
   "execution_count": 46,
   "id": "36d9bf54",
   "metadata": {},
   "outputs": [],
   "source": [
    "# check which not Null \n",
    "not_null_columns = [column['name'] for column in table_columns if not column['nullable']]\n",
    "\n",
    "# take out rows that contain null in not null column\n",
    "invalid_rows = AllMed_excel[AllMed_excel[not_null_columns].isnull().any(axis=1)]\n",
    "\n",
    "# remove and print them\n",
    "AllMed_excel = AllMed_excel.dropna(subset=not_null_columns)\n",
    "# if not invalid_rows.empty:\n",
    "#     print(\"Rows with NULL values in non-nullable columns:\")\n",
    "#     print(invalid_rows)\n"
   ]
  },
  {
   "cell_type": "markdown",
   "id": "e4681954",
   "metadata": {},
   "source": [
    "#### Foreign key檢查(因為是table 1所以不用\n",
    "#### 換行換空格"
   ]
  },
  {
   "cell_type": "code",
   "execution_count": null,
   "id": "05a069a3",
   "metadata": {},
   "outputs": [],
   "source": [
    "# function for newline replace by space\n",
    "def replace_newlines_and_spaces(cell_data):\n",
    "    if isinstance(cell_data, str):\n",
    "        #return cell_data.replace(\"\\n\", \"\").replace(\" \", \"\")\n",
    "        return cell_data.replace(\"\\n\", \" \")\n",
    "    return cell_data\n",
    "\n",
    "# use applymap to apply function for each cell\n",
    "AllMed_excel = AllMed_excel.applymap(replace_newlines_and_spaces)"
   ]
  },
  {
   "cell_type": "markdown",
   "id": "39d65a3a",
   "metadata": {},
   "source": [
    "# Wtite data to sql"
   ]
  },
  {
   "cell_type": "code",
   "execution_count": 48,
   "id": "ffdf7527",
   "metadata": {},
   "outputs": [
    {
     "data": {
      "text/plain": [
       "-1"
      ]
     },
     "execution_count": 48,
     "metadata": {},
     "output_type": "execute_result"
    }
   ],
   "source": [
    "# write data to sql\n",
    "AllMed_excel.to_sql(TABLE_NAME, engine, if_exists='append', index=False)\n"
   ]
  },
  {
   "cell_type": "markdown",
   "id": "7a137073",
   "metadata": {},
   "source": []
  }
 ],
 "metadata": {
  "kernelspec": {
   "display_name": "Python 3 (ipykernel)",
   "language": "python",
   "name": "python3"
  },
  "language_info": {
   "codemirror_mode": {
    "name": "ipython",
    "version": 3
   },
   "file_extension": ".py",
   "mimetype": "text/x-python",
   "name": "python",
   "nbconvert_exporter": "python",
   "pygments_lexer": "ipython3",
   "version": "3.9.13"
  }
 },
 "nbformat": 4,
 "nbformat_minor": 5
}
